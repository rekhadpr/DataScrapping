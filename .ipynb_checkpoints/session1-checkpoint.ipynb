{
 "cells": [
  {
   "cell_type": "code",
   "execution_count": 1,
   "metadata": {},
   "outputs": [],
   "source": [
    "path=\"/Users/gunnvantsaini/Documents/Work/Machine Learning Course/Python/Module 12 Scrapping/code/html.html\"\n",
    "con=open(path,\"r\")\n",
    "html=con.read()\n",
    "con.close()"
   ]
  },
  {
   "cell_type": "code",
   "execution_count": 3,
   "metadata": {},
   "outputs": [
    {
     "name": "stdout",
     "output_type": "stream",
     "text": [
      "<!DOCTYPE html>\n",
      "\n",
      "<html>\n",
      "    <head>\n",
      "        <title>GETTING STARTED WITH bs4</title>\n",
      "    </head>\n",
      "    <div class=\"para 1\">\n",
      "        <p>\n",
      "            This is paragraph one\n",
      "        </p>\n",
      "        <p>\n",
      "            This is paragraph two\n",
      "        </p>\n",
      "    </div>\n",
      "    <div class='para 2'>\n",
      "        <p>\n",
      "            This is para 1 in div 2\n",
      "        </p>\n",
      "    \n",
      "    </div>\n",
      "    <div class=\"para 1\">\n",
      "        <p>\n",
      "            This is paragraph three of div with class para 1\n",
      "        </p>\n",
      "        <p>\n",
      "            This is paragraph four of div with class para 1\n",
      "        </p>\n",
      "    </div>\n",
      "\n",
      "</html>\n"
     ]
    }
   ],
   "source": [
    "print(html)"
   ]
  },
  {
   "cell_type": "code",
   "execution_count": 4,
   "metadata": {},
   "outputs": [
    {
     "data": {
      "text/plain": [
       "str"
      ]
     },
     "execution_count": 4,
     "metadata": {},
     "output_type": "execute_result"
    }
   ],
   "source": [
    "type(html)"
   ]
  },
  {
   "cell_type": "code",
   "execution_count": 5,
   "metadata": {},
   "outputs": [
    {
     "data": {
      "text/plain": [
       "'<!DOCTYPE ht'"
      ]
     },
     "execution_count": 5,
     "metadata": {},
     "output_type": "execute_result"
    }
   ],
   "source": [
    "html[0:12]"
   ]
  },
  {
   "cell_type": "code",
   "execution_count": 6,
   "metadata": {},
   "outputs": [],
   "source": [
    "from bs4 import BeautifulSoup"
   ]
  },
  {
   "cell_type": "code",
   "execution_count": 7,
   "metadata": {},
   "outputs": [],
   "source": [
    "soup=BeautifulSoup(html,'html.parser')"
   ]
  },
  {
   "cell_type": "code",
   "execution_count": 9,
   "metadata": {},
   "outputs": [
    {
     "data": {
      "text/plain": [
       "<div class=\"para 1\">\n",
       "<p>\n",
       "            This is paragraph one\n",
       "        </p>\n",
       "<p>\n",
       "            This is paragraph two\n",
       "        </p>\n",
       "</div>"
      ]
     },
     "execution_count": 9,
     "metadata": {},
     "output_type": "execute_result"
    }
   ],
   "source": [
    "soup.div"
   ]
  },
  {
   "cell_type": "code",
   "execution_count": 10,
   "metadata": {},
   "outputs": [
    {
     "data": {
      "text/plain": [
       "<p>\n",
       "            This is paragraph one\n",
       "        </p>"
      ]
     },
     "execution_count": 10,
     "metadata": {},
     "output_type": "execute_result"
    }
   ],
   "source": [
    "soup.p"
   ]
  },
  {
   "cell_type": "code",
   "execution_count": 11,
   "metadata": {},
   "outputs": [
    {
     "data": {
      "text/plain": [
       "[<div class=\"para 1\">\n",
       " <p>\n",
       "             This is paragraph one\n",
       "         </p>\n",
       " <p>\n",
       "             This is paragraph two\n",
       "         </p>\n",
       " </div>,\n",
       " <div class=\"para 2\">\n",
       " <p>\n",
       "             This is para 1 in div 2\n",
       "         </p>\n",
       " </div>,\n",
       " <div class=\"para 1\">\n",
       " <p>\n",
       "             This is paragraph three of div with class para 1\n",
       "         </p>\n",
       " <p>\n",
       "             This is paragraph four of div with class para 1\n",
       "         </p>\n",
       " </div>]"
      ]
     },
     "execution_count": 11,
     "metadata": {},
     "output_type": "execute_result"
    }
   ],
   "source": [
    "soup.find_all(\"div\")"
   ]
  },
  {
   "cell_type": "code",
   "execution_count": 12,
   "metadata": {},
   "outputs": [
    {
     "data": {
      "text/plain": [
       "[<div class=\"para 1\">\n",
       " <p>\n",
       "             This is paragraph one\n",
       "         </p>\n",
       " <p>\n",
       "             This is paragraph two\n",
       "         </p>\n",
       " </div>,\n",
       " <div class=\"para 1\">\n",
       " <p>\n",
       "             This is paragraph three of div with class para 1\n",
       "         </p>\n",
       " <p>\n",
       "             This is paragraph four of div with class para 1\n",
       "         </p>\n",
       " </div>]"
      ]
     },
     "execution_count": 12,
     "metadata": {},
     "output_type": "execute_result"
    }
   ],
   "source": [
    "soup.find_all(\"div\",class_=\"para 1\")"
   ]
  },
  {
   "cell_type": "code",
   "execution_count": 13,
   "metadata": {},
   "outputs": [
    {
     "data": {
      "text/plain": [
       "[<div class=\"para 1\">\n",
       " <p>\n",
       "             This is paragraph one\n",
       "         </p>\n",
       " <p>\n",
       "             This is paragraph two\n",
       "         </p>\n",
       " </div>,\n",
       " <div class=\"para 2\">\n",
       " <p>\n",
       "             This is para 1 in div 2\n",
       "         </p>\n",
       " </div>,\n",
       " <div class=\"para 1\">\n",
       " <p>\n",
       "             This is paragraph three of div with class para 1\n",
       "         </p>\n",
       " <p>\n",
       "             This is paragraph four of div with class para 1\n",
       "         </p>\n",
       " </div>]"
      ]
     },
     "execution_count": 13,
     "metadata": {},
     "output_type": "execute_result"
    }
   ],
   "source": [
    "soup.select(\"div\")"
   ]
  },
  {
   "cell_type": "code",
   "execution_count": 19,
   "metadata": {},
   "outputs": [
    {
     "data": {
      "text/plain": [
       "'This is paragraph one'"
      ]
     },
     "execution_count": 19,
     "metadata": {},
     "output_type": "execute_result"
    }
   ],
   "source": [
    "### I want to access a particular element\n",
    "soup.find_all(\"div\",class_=\"para 1\")[0].find_all(\"p\")[0].text.strip()"
   ]
  },
  {
   "cell_type": "code",
   "execution_count": 28,
   "metadata": {},
   "outputs": [
    {
     "data": {
      "text/plain": [
       "'This is paragraph three of div with class para 1'"
      ]
     },
     "execution_count": 28,
     "metadata": {},
     "output_type": "execute_result"
    }
   ],
   "source": [
    "soup.find_all(\"div\",class_=\"para 1\")[1].find_all(\"p\")[0].text.strip()"
   ]
  },
  {
   "cell_type": "markdown",
   "metadata": {},
   "source": [
    "### Simulate a browser\n",
    "- Do a simple get request to the server where this webpage is hosted\n",
    "- Run a headless browser using a web-driver (This method)"
   ]
  },
  {
   "cell_type": "code",
   "execution_count": 29,
   "metadata": {},
   "outputs": [],
   "source": [
    "import requests"
   ]
  },
  {
   "cell_type": "code",
   "execution_count": 30,
   "metadata": {},
   "outputs": [],
   "source": [
    "url=\"https://www.goodreads.com/quotes\""
   ]
  },
  {
   "cell_type": "code",
   "execution_count": 31,
   "metadata": {},
   "outputs": [],
   "source": [
    "html=requests.get(url).text"
   ]
  },
  {
   "cell_type": "code",
   "execution_count": 33,
   "metadata": {},
   "outputs": [],
   "source": [
    "soup=BeautifulSoup(html,'html.parser')"
   ]
  },
  {
   "cell_type": "code",
   "execution_count": 37,
   "metadata": {},
   "outputs": [],
   "source": [
    "author=[]\n",
    "for i in soup.find_all(\"span\",class_=\"authorOrTitle\"):\n",
    "    author.append(i.text.strip())"
   ]
  },
  {
   "cell_type": "code",
   "execution_count": 43,
   "metadata": {},
   "outputs": [],
   "source": [
    "## Get all the likes\n",
    "likes=[]\n",
    "for i in soup.find_all(\"a\",class_=\"smallText\"):\n",
    "    likes.append(i.text.strip().split(\" \")[0])"
   ]
  },
  {
   "cell_type": "code",
   "execution_count": 46,
   "metadata": {},
   "outputs": [],
   "source": [
    "likes=[i.text.strip().split(\" \")[0] for i in soup.find_all(\"a\",class_=\"smallText\")]"
   ]
  },
  {
   "cell_type": "code",
   "execution_count": 55,
   "metadata": {},
   "outputs": [],
   "source": [
    "quotes=[]\n",
    "for i in soup.find_all(\"div\",class_=\"quoteText\"):\n",
    "    quotes.append(list(i.children)[0].strip())"
   ]
  },
  {
   "cell_type": "code",
   "execution_count": 56,
   "metadata": {},
   "outputs": [],
   "source": [
    "import pandas as pd"
   ]
  },
  {
   "cell_type": "code",
   "execution_count": 59,
   "metadata": {},
   "outputs": [],
   "source": [
    "table=pd.DataFrame({'Author':author,'Quote':quotes,'Likes':likes})"
   ]
  },
  {
   "cell_type": "code",
   "execution_count": 60,
   "metadata": {},
   "outputs": [],
   "source": [
    "def get_table(soup):\n",
    "    author=[]\n",
    "    for i in soup.find_all(\"span\",class_=\"authorOrTitle\"):\n",
    "        author.append(i.text.strip())\n",
    "    likes=[]\n",
    "    for i in soup.find_all(\"a\",class_=\"smallText\"):\n",
    "        likes.append(i.text.strip().split(\" \")[0])\n",
    "    quotes=[]\n",
    "    for i in soup.find_all(\"div\",class_=\"quoteText\"):\n",
    "        quotes.append(list(i.children)[0].strip())\n",
    "    table=pd.DataFrame({'Author':author,'Quote':quotes,'Likes':likes})\n",
    "    return table"
   ]
  },
  {
   "cell_type": "code",
   "execution_count": null,
   "metadata": {},
   "outputs": [],
   "source": []
  }
 ],
 "metadata": {
  "kernelspec": {
   "display_name": "Python 3",
   "language": "python",
   "name": "python3"
  },
  "language_info": {
   "codemirror_mode": {
    "name": "ipython",
    "version": 3
   },
   "file_extension": ".py",
   "mimetype": "text/x-python",
   "name": "python",
   "nbconvert_exporter": "python",
   "pygments_lexer": "ipython3",
   "version": "3.7.3"
  }
 },
 "nbformat": 4,
 "nbformat_minor": 4
}
