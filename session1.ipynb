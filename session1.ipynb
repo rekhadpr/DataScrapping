{
 "cells": [
  {
   "cell_type": "code",
   "execution_count": 1,
   "metadata": {},
   "outputs": [],
   "source": [
    "path=\"/Users/gunnvantsaini/Documents/Work/Machine Learning Course/Python/Module 12 Scrapping/code/html.html\"\n",
    "con=open(path,\"r\")\n",
    "html=con.read()\n",
    "con.close()"
   ]
  },
  {
   "cell_type": "code",
   "execution_count": 3,
   "metadata": {},
   "outputs": [
    {
     "name": "stdout",
     "output_type": "stream",
     "text": [
      "<!DOCTYPE html>\n",
      "\n",
      "<html>\n",
      "    <head>\n",
      "        <title>GETTING STARTED WITH bs4</title>\n",
      "    </head>\n",
      "    <div class=\"para 1\">\n",
      "        <p>\n",
      "            This is paragraph one\n",
      "        </p>\n",
      "        <p>\n",
      "            This is paragraph two\n",
      "        </p>\n",
      "    </div>\n",
      "    <div class='para 2'>\n",
      "        <p>\n",
      "            This is para 1 in div 2\n",
      "        </p>\n",
      "    \n",
      "    </div>\n",
      "    <div class=\"para 1\">\n",
      "        <p>\n",
      "            This is paragraph three of div with class para 1\n",
      "        </p>\n",
      "        <p>\n",
      "            This is paragraph four of div with class para 1\n",
      "        </p>\n",
      "    </div>\n",
      "\n",
      "</html>\n"
     ]
    }
   ],
   "source": [
    "print(html)"
   ]
  },
  {
   "cell_type": "code",
   "execution_count": 4,
   "metadata": {},
   "outputs": [
    {
     "data": {
      "text/plain": [
       "str"
      ]
     },
     "execution_count": 4,
     "metadata": {},
     "output_type": "execute_result"
    }
   ],
   "source": [
    "type(html)"
   ]
  },
  {
   "cell_type": "code",
   "execution_count": 5,
   "metadata": {},
   "outputs": [
    {
     "data": {
      "text/plain": [
       "'<!DOCTYPE ht'"
      ]
     },
     "execution_count": 5,
     "metadata": {},
     "output_type": "execute_result"
    }
   ],
   "source": [
    "html[0:12]"
   ]
  },
  {
   "cell_type": "code",
   "execution_count": 6,
   "metadata": {},
   "outputs": [],
   "source": [
    "from bs4 import BeautifulSoup"
   ]
  },
  {
   "cell_type": "code",
   "execution_count": 7,
   "metadata": {},
   "outputs": [],
   "source": [
    "soup=BeautifulSoup(html,'html.parser')"
   ]
  },
  {
   "cell_type": "code",
   "execution_count": 9,
   "metadata": {},
   "outputs": [
    {
     "data": {
      "text/plain": [
       "<div class=\"para 1\">\n",
       "<p>\n",
       "            This is paragraph one\n",
       "        </p>\n",
       "<p>\n",
       "            This is paragraph two\n",
       "        </p>\n",
       "</div>"
      ]
     },
     "execution_count": 9,
     "metadata": {},
     "output_type": "execute_result"
    }
   ],
   "source": [
    "soup.div"
   ]
  },
  {
   "cell_type": "code",
   "execution_count": 10,
   "metadata": {},
   "outputs": [
    {
     "data": {
      "text/plain": [
       "<p>\n",
       "            This is paragraph one\n",
       "        </p>"
      ]
     },
     "execution_count": 10,
     "metadata": {},
     "output_type": "execute_result"
    }
   ],
   "source": [
    "soup.p"
   ]
  },
  {
   "cell_type": "code",
   "execution_count": 11,
   "metadata": {},
   "outputs": [
    {
     "data": {
      "text/plain": [
       "[<div class=\"para 1\">\n",
       " <p>\n",
       "             This is paragraph one\n",
       "         </p>\n",
       " <p>\n",
       "             This is paragraph two\n",
       "         </p>\n",
       " </div>,\n",
       " <div class=\"para 2\">\n",
       " <p>\n",
       "             This is para 1 in div 2\n",
       "         </p>\n",
       " </div>,\n",
       " <div class=\"para 1\">\n",
       " <p>\n",
       "             This is paragraph three of div with class para 1\n",
       "         </p>\n",
       " <p>\n",
       "             This is paragraph four of div with class para 1\n",
       "         </p>\n",
       " </div>]"
      ]
     },
     "execution_count": 11,
     "metadata": {},
     "output_type": "execute_result"
    }
   ],
   "source": [
    "soup.find_all(\"div\")"
   ]
  },
  {
   "cell_type": "code",
   "execution_count": 12,
   "metadata": {},
   "outputs": [
    {
     "data": {
      "text/plain": [
       "[<div class=\"para 1\">\n",
       " <p>\n",
       "             This is paragraph one\n",
       "         </p>\n",
       " <p>\n",
       "             This is paragraph two\n",
       "         </p>\n",
       " </div>,\n",
       " <div class=\"para 1\">\n",
       " <p>\n",
       "             This is paragraph three of div with class para 1\n",
       "         </p>\n",
       " <p>\n",
       "             This is paragraph four of div with class para 1\n",
       "         </p>\n",
       " </div>]"
      ]
     },
     "execution_count": 12,
     "metadata": {},
     "output_type": "execute_result"
    }
   ],
   "source": [
    "soup.find_all(\"div\",class_=\"para 1\")"
   ]
  },
  {
   "cell_type": "code",
   "execution_count": 13,
   "metadata": {},
   "outputs": [
    {
     "data": {
      "text/plain": [
       "[<div class=\"para 1\">\n",
       " <p>\n",
       "             This is paragraph one\n",
       "         </p>\n",
       " <p>\n",
       "             This is paragraph two\n",
       "         </p>\n",
       " </div>,\n",
       " <div class=\"para 2\">\n",
       " <p>\n",
       "             This is para 1 in div 2\n",
       "         </p>\n",
       " </div>,\n",
       " <div class=\"para 1\">\n",
       " <p>\n",
       "             This is paragraph three of div with class para 1\n",
       "         </p>\n",
       " <p>\n",
       "             This is paragraph four of div with class para 1\n",
       "         </p>\n",
       " </div>]"
      ]
     },
     "execution_count": 13,
     "metadata": {},
     "output_type": "execute_result"
    }
   ],
   "source": [
    "soup.select(\"div\")"
   ]
  },
  {
   "cell_type": "code",
   "execution_count": 19,
   "metadata": {},
   "outputs": [
    {
     "data": {
      "text/plain": [
       "'This is paragraph one'"
      ]
     },
     "execution_count": 19,
     "metadata": {},
     "output_type": "execute_result"
    }
   ],
   "source": [
    "### I want to access a particular element\n",
    "soup.find_all(\"div\",class_=\"para 1\")[0].find_all(\"p\")[0].text.strip()"
   ]
  },
  {
   "cell_type": "code",
   "execution_count": 28,
   "metadata": {},
   "outputs": [
    {
     "data": {
      "text/plain": [
       "'This is paragraph three of div with class para 1'"
      ]
     },
     "execution_count": 28,
     "metadata": {},
     "output_type": "execute_result"
    }
   ],
   "source": [
    "soup.find_all(\"div\",class_=\"para 1\")[1].find_all(\"p\")[0].text.strip()"
   ]
  },
  {
   "cell_type": "markdown",
   "metadata": {},
   "source": [
    "### Simulate a browser\n",
    "- Do a simple get request to the server where this webpage is hosted\n",
    "- Run a headless browser using a web-driver (This method)"
   ]
  },
  {
   "cell_type": "code",
   "execution_count": 29,
   "metadata": {},
   "outputs": [],
   "source": [
    "import requests"
   ]
  },
  {
   "cell_type": "code",
   "execution_count": 30,
   "metadata": {},
   "outputs": [],
   "source": [
    "url=\"https://www.goodreads.com/quotes\""
   ]
  },
  {
   "cell_type": "code",
   "execution_count": 31,
   "metadata": {},
   "outputs": [],
   "source": [
    "html=requests.get(url).text"
   ]
  },
  {
   "cell_type": "code",
   "execution_count": 33,
   "metadata": {},
   "outputs": [],
   "source": [
    "soup=BeautifulSoup(html,'html.parser')"
   ]
  },
  {
   "cell_type": "code",
   "execution_count": 37,
   "metadata": {},
   "outputs": [],
   "source": [
    "author=[]\n",
    "for i in soup.find_all(\"span\",class_=\"authorOrTitle\"):\n",
    "    author.append(i.text.strip())"
   ]
  },
  {
   "cell_type": "code",
   "execution_count": 43,
   "metadata": {},
   "outputs": [],
   "source": [
    "## Get all the likes\n",
    "likes=[]\n",
    "for i in soup.find_all(\"a\",class_=\"smallText\"):\n",
    "    likes.append(i.text.strip().split(\" \")[0])"
   ]
  },
  {
   "cell_type": "code",
   "execution_count": 46,
   "metadata": {},
   "outputs": [],
   "source": [
    "likes=[i.text.strip().split(\" \")[0] for i in soup.find_all(\"a\",class_=\"smallText\")]"
   ]
  },
  {
   "cell_type": "code",
   "execution_count": 55,
   "metadata": {},
   "outputs": [],
   "source": [
    "quotes=[]\n",
    "for i in soup.find_all(\"div\",class_=\"quoteText\"):\n",
    "    quotes.append(list(i.children)[0].strip())"
   ]
  },
  {
   "cell_type": "code",
   "execution_count": 56,
   "metadata": {},
   "outputs": [],
   "source": [
    "import pandas as pd"
   ]
  },
  {
   "cell_type": "code",
   "execution_count": 59,
   "metadata": {},
   "outputs": [],
   "source": [
    "table=pd.DataFrame({'Author':author,'Quote':quotes,'Likes':likes})"
   ]
  },
  {
   "cell_type": "code",
   "execution_count": 60,
   "metadata": {},
   "outputs": [],
   "source": [
    "def get_table(soup):\n",
    "    author=[]\n",
    "    for i in soup.find_all(\"span\",class_=\"authorOrTitle\"):\n",
    "        author.append(i.text.strip())\n",
    "    likes=[]\n",
    "    for i in soup.find_all(\"a\",class_=\"smallText\"):\n",
    "        likes.append(i.text.strip().split(\" \")[0])\n",
    "    quotes=[]\n",
    "    for i in soup.find_all(\"div\",class_=\"quoteText\"):\n",
    "        quotes.append(list(i.children)[0].strip())\n",
    "    table=pd.DataFrame({'Author':author,'Quote':quotes,'Likes':likes})\n",
    "    return table"
   ]
  },
  {
   "cell_type": "code",
   "execution_count": 62,
   "metadata": {},
   "outputs": [
    {
     "data": {
      "text/plain": [
       "(30, 3)"
      ]
     },
     "execution_count": 62,
     "metadata": {},
     "output_type": "execute_result"
    }
   ],
   "source": [
    "table.shape"
   ]
  },
  {
   "cell_type": "code",
   "execution_count": 63,
   "metadata": {},
   "outputs": [],
   "source": [
    "###https://www.goodreads.com/quotes?page=1\n",
    "###https://www.goodreads.com/quotes?page=2"
   ]
  },
  {
   "cell_type": "code",
   "execution_count": 64,
   "metadata": {},
   "outputs": [],
   "source": [
    "stub=\"https://www.goodreads.com/quotes?page={}\""
   ]
  },
  {
   "cell_type": "code",
   "execution_count": 68,
   "metadata": {},
   "outputs": [
    {
     "data": {
      "text/plain": [
       "'https://www.goodreads.com/quotes?page=30'"
      ]
     },
     "execution_count": 68,
     "metadata": {},
     "output_type": "execute_result"
    }
   ],
   "source": [
    "stub.format(30)"
   ]
  },
  {
   "cell_type": "code",
   "execution_count": 69,
   "metadata": {},
   "outputs": [],
   "source": [
    "from tqdm import tqdm"
   ]
  },
  {
   "cell_type": "code",
   "execution_count": 70,
   "metadata": {},
   "outputs": [
    {
     "name": "stderr",
     "output_type": "stream",
     "text": [
      "100%|██████████| 29/29 [01:37<00:00,  3.38s/it]\n"
     ]
    }
   ],
   "source": [
    "T=[]\n",
    "for i in tqdm(range(1,30)):\n",
    "    url=stub.format(i)\n",
    "    html=requests.get(url).text\n",
    "    soup=BeautifulSoup(html,'html.parser')\n",
    "    T.append(get_table(soup))"
   ]
  },
  {
   "cell_type": "code",
   "execution_count": 71,
   "metadata": {},
   "outputs": [],
   "source": [
    "big_table=pd.concat(T,axis=0)"
   ]
  },
  {
   "cell_type": "code",
   "execution_count": 72,
   "metadata": {},
   "outputs": [
    {
     "data": {
      "text/plain": [
       "(870, 3)"
      ]
     },
     "execution_count": 72,
     "metadata": {},
     "output_type": "execute_result"
    }
   ],
   "source": [
    "big_table.shape"
   ]
  },
  {
   "cell_type": "code",
   "execution_count": 73,
   "metadata": {},
   "outputs": [
    {
     "data": {
      "text/html": [
       "<div>\n",
       "<style scoped>\n",
       "    .dataframe tbody tr th:only-of-type {\n",
       "        vertical-align: middle;\n",
       "    }\n",
       "\n",
       "    .dataframe tbody tr th {\n",
       "        vertical-align: top;\n",
       "    }\n",
       "\n",
       "    .dataframe thead th {\n",
       "        text-align: right;\n",
       "    }\n",
       "</style>\n",
       "<table border=\"1\" class=\"dataframe\">\n",
       "  <thead>\n",
       "    <tr style=\"text-align: right;\">\n",
       "      <th></th>\n",
       "      <th>Author</th>\n",
       "      <th>Quote</th>\n",
       "      <th>Likes</th>\n",
       "    </tr>\n",
       "  </thead>\n",
       "  <tbody>\n",
       "    <tr>\n",
       "      <th>0</th>\n",
       "      <td>Marilyn Monroe</td>\n",
       "      <td>“I'm selfish, impatient and a little insecure....</td>\n",
       "      <td>150443</td>\n",
       "    </tr>\n",
       "    <tr>\n",
       "      <th>1</th>\n",
       "      <td>Oscar Wilde</td>\n",
       "      <td>“Be yourself; everyone else is already taken.”</td>\n",
       "      <td>148900</td>\n",
       "    </tr>\n",
       "  </tbody>\n",
       "</table>\n",
       "</div>"
      ],
      "text/plain": [
       "           Author                                              Quote   Likes\n",
       "0  Marilyn Monroe  “I'm selfish, impatient and a little insecure....  150443\n",
       "1     Oscar Wilde     “Be yourself; everyone else is already taken.”  148900"
      ]
     },
     "execution_count": 73,
     "metadata": {},
     "output_type": "execute_result"
    }
   ],
   "source": [
    "big_table.head(2)"
   ]
  },
  {
   "cell_type": "code",
   "execution_count": 74,
   "metadata": {},
   "outputs": [],
   "source": [
    "url=\"https://www.goodreads.com/list/show/19.Best_for_Book_Clubs\""
   ]
  },
  {
   "cell_type": "code",
   "execution_count": 75,
   "metadata": {},
   "outputs": [],
   "source": [
    "html=requests.get(url).text"
   ]
  },
  {
   "cell_type": "code",
   "execution_count": 76,
   "metadata": {},
   "outputs": [],
   "source": [
    "soup=BeautifulSoup(html,'html.parser')"
   ]
  },
  {
   "cell_type": "code",
   "execution_count": 80,
   "metadata": {},
   "outputs": [],
   "source": [
    "### name\n",
    "name=[]\n",
    "for i in soup.find_all(\"a\",class_=\"bookTitle\"):\n",
    "    name.append(i.span.text.strip())"
   ]
  },
  {
   "cell_type": "code",
   "execution_count": 84,
   "metadata": {},
   "outputs": [],
   "source": [
    "author=[]\n",
    "for i in soup.find_all(\"div\",class_=\"authorName__container\"):\n",
    "    author.append(i.a.span.text.strip())"
   ]
  },
  {
   "cell_type": "code",
   "execution_count": 87,
   "metadata": {},
   "outputs": [],
   "source": [
    "import re"
   ]
  },
  {
   "cell_type": "code",
   "execution_count": 88,
   "metadata": {},
   "outputs": [],
   "source": [
    "pattern=re.compile(r'\\d\\.\\d{2}')"
   ]
  },
  {
   "cell_type": "code",
   "execution_count": 93,
   "metadata": {},
   "outputs": [],
   "source": [
    "ratings=[]\n",
    "for i in soup.find_all(\"span\",class_=\"minirating\"):\n",
    "    ratings.append(re.findall(pattern,i.text)[0])"
   ]
  },
  {
   "cell_type": "code",
   "execution_count": 95,
   "metadata": {},
   "outputs": [],
   "source": [
    "table=pd.DataFrame({'name':name,'author':author,'ratings':ratings})"
   ]
  },
  {
   "cell_type": "code",
   "execution_count": 98,
   "metadata": {},
   "outputs": [
    {
     "data": {
      "text/plain": [
       "(100, 3)"
      ]
     },
     "execution_count": 98,
     "metadata": {},
     "output_type": "execute_result"
    }
   ],
   "source": [
    "table.shape"
   ]
  },
  {
   "cell_type": "code",
   "execution_count": 97,
   "metadata": {},
   "outputs": [],
   "source": [
    "##https://www.goodreads.com/list/show/19.Best_for_Book_Clubs?page=2\n",
    "##https://www.goodreads.com/list/show/19.Best_for_Book_Clubs?page=3"
   ]
  },
  {
   "cell_type": "code",
   "execution_count": 99,
   "metadata": {},
   "outputs": [],
   "source": [
    "def get_table(soup):\n",
    "    name=[]\n",
    "    for i in soup.find_all(\"a\",class_=\"bookTitle\"):\n",
    "        name.append(i.span.text.strip())\n",
    "    author=[]\n",
    "    for i in soup.find_all(\"div\",class_=\"authorName__container\"):\n",
    "        author.append(i.a.span.text.strip())\n",
    "    ratings=[]\n",
    "    for i in soup.find_all(\"span\",class_=\"minirating\"):\n",
    "        ratings.append(re.findall(pattern,i.text)[0])\n",
    "    table=pd.DataFrame({'name':name,'author':author,'ratings':ratings})\n",
    "    return table"
   ]
  },
  {
   "cell_type": "code",
   "execution_count": 100,
   "metadata": {},
   "outputs": [
    {
     "data": {
      "text/plain": [
       "\"T=[]\\nfor i in range(1,10):\\n    url=gen_url()\\n    html=requests.get(url).text\\n    soup=BeautifulSoup(html,'html.parser')\\n    T.append(get_table(soup))\""
      ]
     },
     "execution_count": 100,
     "metadata": {},
     "output_type": "execute_result"
    }
   ],
   "source": [
    "'''T=[]\n",
    "for i in range(1,10):\n",
    "    url=gen_url()\n",
    "    html=requests.get(url).text\n",
    "    soup=BeautifulSoup(html,'html.parser')\n",
    "    T.append(get_table(soup))'''"
   ]
  },
  {
   "cell_type": "code",
   "execution_count": 101,
   "metadata": {},
   "outputs": [],
   "source": [
    "url=\"https://www.naukri.com/data-science-jobs?k=data%20science\""
   ]
  },
  {
   "cell_type": "code",
   "execution_count": 102,
   "metadata": {},
   "outputs": [],
   "source": [
    "html=requests.get(url).text"
   ]
  },
  {
   "cell_type": "code",
   "execution_count": 103,
   "metadata": {},
   "outputs": [
    {
     "name": "stdout",
     "output_type": "stream",
     "text": [
      "<HTML><HEAD>\n",
      "<TITLE>Access Denied</TITLE>\n",
      "</HEAD><BODY>\n",
      "<H1>Access Denied</H1>\n",
      " \n",
      "You don't have permission to access \"http&#58;&#47;&#47;www&#46;naukri&#46;com&#47;data&#45;science&#45;jobs&#63;\" on this server.<P>\n",
      "Reference&#32;&#35;18&#46;e3a21ab8&#46;1586149545&#46;3d6b376a\n",
      "</BODY>\n",
      "</HTML>\n",
      "\n"
     ]
    }
   ],
   "source": [
    "print(html)"
   ]
  },
  {
   "cell_type": "code",
   "execution_count": 104,
   "metadata": {},
   "outputs": [],
   "source": [
    "#!pip install selenium"
   ]
  },
  {
   "cell_type": "code",
   "execution_count": 106,
   "metadata": {},
   "outputs": [],
   "source": [
    "from selenium import webdriver\n",
    "import os"
   ]
  },
  {
   "cell_type": "code",
   "execution_count": 107,
   "metadata": {},
   "outputs": [],
   "source": [
    "#os.chdir(path to the unzipped file of the executables)\n",
    "browser=webdriver.Firefox()"
   ]
  },
  {
   "cell_type": "code",
   "execution_count": 108,
   "metadata": {},
   "outputs": [],
   "source": [
    "browser.get(url)"
   ]
  },
  {
   "cell_type": "code",
   "execution_count": 109,
   "metadata": {},
   "outputs": [],
   "source": [
    "html=browser.page_source"
   ]
  },
  {
   "cell_type": "code",
   "execution_count": 111,
   "metadata": {},
   "outputs": [],
   "source": [
    "soup=BeautifulSoup(html,'html.parser')"
   ]
  },
  {
   "cell_type": "code",
   "execution_count": null,
   "metadata": {},
   "outputs": [],
   "source": [
    "#https://www.naukri.com/data-science-jobs-2?k=data%20science\n",
    "#https://www.naukri.com/data-science-jobs-3?k=data%20science"
   ]
  }
 ],
 "metadata": {
  "kernelspec": {
   "display_name": "Python 3",
   "language": "python",
   "name": "python3"
  },
  "language_info": {
   "codemirror_mode": {
    "name": "ipython",
    "version": 3
   },
   "file_extension": ".py",
   "mimetype": "text/x-python",
   "name": "python",
   "nbconvert_exporter": "python",
   "pygments_lexer": "ipython3",
   "version": "3.7.3"
  }
 },
 "nbformat": 4,
 "nbformat_minor": 4
}
